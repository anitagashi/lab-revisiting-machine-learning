{
 "cells": [
  {
   "cell_type": "code",
   "execution_count": 63,
   "id": "50cfd315",
   "metadata": {},
   "outputs": [],
   "source": [
    "import pandas as pd\n",
    "import numpy as np"
   ]
  },
  {
   "cell_type": "code",
   "execution_count": 64,
   "id": "9dcdfa48",
   "metadata": {},
   "outputs": [
    {
     "data": {
      "text/html": [
       "<div>\n",
       "<style scoped>\n",
       "    .dataframe tbody tr th:only-of-type {\n",
       "        vertical-align: middle;\n",
       "    }\n",
       "\n",
       "    .dataframe tbody tr th {\n",
       "        vertical-align: top;\n",
       "    }\n",
       "\n",
       "    .dataframe thead th {\n",
       "        text-align: right;\n",
       "    }\n",
       "</style>\n",
       "<table border=\"1\" class=\"dataframe\">\n",
       "  <thead>\n",
       "    <tr style=\"text-align: right;\">\n",
       "      <th></th>\n",
       "      <th>STATE</th>\n",
       "      <th>CLUSTER</th>\n",
       "      <th>HOMEOWNR</th>\n",
       "      <th>GENDER</th>\n",
       "      <th>DATASRCE</th>\n",
       "      <th>RFA_2R</th>\n",
       "      <th>RFA_2A</th>\n",
       "      <th>GEOCODE2</th>\n",
       "      <th>DOMAIN_A</th>\n",
       "      <th>DOMAIN_B</th>\n",
       "    </tr>\n",
       "  </thead>\n",
       "  <tbody>\n",
       "    <tr>\n",
       "      <th>0</th>\n",
       "      <td>IL</td>\n",
       "      <td>36</td>\n",
       "      <td>U</td>\n",
       "      <td>F</td>\n",
       "      <td>Not matched</td>\n",
       "      <td>L</td>\n",
       "      <td>E</td>\n",
       "      <td>C</td>\n",
       "      <td>T</td>\n",
       "      <td>2</td>\n",
       "    </tr>\n",
       "    <tr>\n",
       "      <th>1</th>\n",
       "      <td>CA</td>\n",
       "      <td>14</td>\n",
       "      <td>H</td>\n",
       "      <td>M</td>\n",
       "      <td>3</td>\n",
       "      <td>L</td>\n",
       "      <td>G</td>\n",
       "      <td>A</td>\n",
       "      <td>S</td>\n",
       "      <td>1</td>\n",
       "    </tr>\n",
       "    <tr>\n",
       "      <th>2</th>\n",
       "      <td>NC</td>\n",
       "      <td>43</td>\n",
       "      <td>U</td>\n",
       "      <td>M</td>\n",
       "      <td>3</td>\n",
       "      <td>L</td>\n",
       "      <td>E</td>\n",
       "      <td>C</td>\n",
       "      <td>R</td>\n",
       "      <td>2</td>\n",
       "    </tr>\n",
       "    <tr>\n",
       "      <th>3</th>\n",
       "      <td>CA</td>\n",
       "      <td>44</td>\n",
       "      <td>U</td>\n",
       "      <td>F</td>\n",
       "      <td>3</td>\n",
       "      <td>L</td>\n",
       "      <td>E</td>\n",
       "      <td>C</td>\n",
       "      <td>R</td>\n",
       "      <td>2</td>\n",
       "    </tr>\n",
       "    <tr>\n",
       "      <th>4</th>\n",
       "      <td>FL</td>\n",
       "      <td>16</td>\n",
       "      <td>H</td>\n",
       "      <td>F</td>\n",
       "      <td>3</td>\n",
       "      <td>L</td>\n",
       "      <td>F</td>\n",
       "      <td>A</td>\n",
       "      <td>S</td>\n",
       "      <td>2</td>\n",
       "    </tr>\n",
       "  </tbody>\n",
       "</table>\n",
       "</div>"
      ],
      "text/plain": [
       "  STATE  CLUSTER HOMEOWNR GENDER     DATASRCE RFA_2R RFA_2A GEOCODE2 DOMAIN_A  \\\n",
       "0    IL       36        U      F  Not matched      L      E        C        T   \n",
       "1    CA       14        H      M            3      L      G        A        S   \n",
       "2    NC       43        U      M            3      L      E        C        R   \n",
       "3    CA       44        U      F            3      L      E        C        R   \n",
       "4    FL       16        H      F            3      L      F        A        S   \n",
       "\n",
       "   DOMAIN_B  \n",
       "0         2  \n",
       "1         1  \n",
       "2         2  \n",
       "3         2  \n",
       "4         2  "
      ]
     },
     "execution_count": 64,
     "metadata": {},
     "output_type": "execute_result"
    }
   ],
   "source": [
    "categorical = pd.read_csv('categorical.csv')\n",
    "categorical.head()"
   ]
  },
  {
   "cell_type": "code",
   "execution_count": 65,
   "id": "1971454c",
   "metadata": {},
   "outputs": [],
   "source": [
    "numerical = pd.read_csv('numerical.csv')"
   ]
  },
  {
   "cell_type": "code",
   "execution_count": 66,
   "id": "d1cc8015",
   "metadata": {},
   "outputs": [
    {
     "data": {
      "text/html": [
       "<div>\n",
       "<style scoped>\n",
       "    .dataframe tbody tr th:only-of-type {\n",
       "        vertical-align: middle;\n",
       "    }\n",
       "\n",
       "    .dataframe tbody tr th {\n",
       "        vertical-align: top;\n",
       "    }\n",
       "\n",
       "    .dataframe thead th {\n",
       "        text-align: right;\n",
       "    }\n",
       "</style>\n",
       "<table border=\"1\" class=\"dataframe\">\n",
       "  <thead>\n",
       "    <tr style=\"text-align: right;\">\n",
       "      <th></th>\n",
       "      <th>ODATEDW</th>\n",
       "      <th>TCODE</th>\n",
       "      <th>DOB</th>\n",
       "      <th>AGE</th>\n",
       "      <th>INCOME</th>\n",
       "      <th>WEALTH1</th>\n",
       "      <th>HIT</th>\n",
       "      <th>MALEMILI</th>\n",
       "      <th>MALEVET</th>\n",
       "      <th>VIETVETS</th>\n",
       "      <th>...</th>\n",
       "      <th>LASTDATE</th>\n",
       "      <th>FISTDATE</th>\n",
       "      <th>NEXTDATE</th>\n",
       "      <th>TIMELAG</th>\n",
       "      <th>AVGGIFT</th>\n",
       "      <th>CONTROLN</th>\n",
       "      <th>TARGET_B</th>\n",
       "      <th>HPHONE_D</th>\n",
       "      <th>RFA_2F</th>\n",
       "      <th>CLUSTER2</th>\n",
       "    </tr>\n",
       "  </thead>\n",
       "  <tbody>\n",
       "    <tr>\n",
       "      <th>0</th>\n",
       "      <td>8901</td>\n",
       "      <td>0</td>\n",
       "      <td>3712</td>\n",
       "      <td>60.000000</td>\n",
       "      <td>5.0</td>\n",
       "      <td>5.345699</td>\n",
       "      <td>0</td>\n",
       "      <td>0</td>\n",
       "      <td>39</td>\n",
       "      <td>34</td>\n",
       "      <td>...</td>\n",
       "      <td>9512</td>\n",
       "      <td>8911</td>\n",
       "      <td>9003.0</td>\n",
       "      <td>4.0</td>\n",
       "      <td>7.741935</td>\n",
       "      <td>95515</td>\n",
       "      <td>0</td>\n",
       "      <td>0</td>\n",
       "      <td>4</td>\n",
       "      <td>39.0</td>\n",
       "    </tr>\n",
       "    <tr>\n",
       "      <th>1</th>\n",
       "      <td>9401</td>\n",
       "      <td>1</td>\n",
       "      <td>5202</td>\n",
       "      <td>46.000000</td>\n",
       "      <td>6.0</td>\n",
       "      <td>9.000000</td>\n",
       "      <td>16</td>\n",
       "      <td>0</td>\n",
       "      <td>15</td>\n",
       "      <td>55</td>\n",
       "      <td>...</td>\n",
       "      <td>9512</td>\n",
       "      <td>9310</td>\n",
       "      <td>9504.0</td>\n",
       "      <td>18.0</td>\n",
       "      <td>15.666667</td>\n",
       "      <td>148535</td>\n",
       "      <td>0</td>\n",
       "      <td>0</td>\n",
       "      <td>2</td>\n",
       "      <td>1.0</td>\n",
       "    </tr>\n",
       "    <tr>\n",
       "      <th>2</th>\n",
       "      <td>9001</td>\n",
       "      <td>1</td>\n",
       "      <td>0</td>\n",
       "      <td>61.611649</td>\n",
       "      <td>3.0</td>\n",
       "      <td>1.000000</td>\n",
       "      <td>2</td>\n",
       "      <td>0</td>\n",
       "      <td>20</td>\n",
       "      <td>29</td>\n",
       "      <td>...</td>\n",
       "      <td>9512</td>\n",
       "      <td>9001</td>\n",
       "      <td>9101.0</td>\n",
       "      <td>12.0</td>\n",
       "      <td>7.481481</td>\n",
       "      <td>15078</td>\n",
       "      <td>0</td>\n",
       "      <td>1</td>\n",
       "      <td>4</td>\n",
       "      <td>60.0</td>\n",
       "    </tr>\n",
       "    <tr>\n",
       "      <th>3</th>\n",
       "      <td>8701</td>\n",
       "      <td>0</td>\n",
       "      <td>2801</td>\n",
       "      <td>70.000000</td>\n",
       "      <td>1.0</td>\n",
       "      <td>4.000000</td>\n",
       "      <td>2</td>\n",
       "      <td>0</td>\n",
       "      <td>23</td>\n",
       "      <td>14</td>\n",
       "      <td>...</td>\n",
       "      <td>9512</td>\n",
       "      <td>8702</td>\n",
       "      <td>8711.0</td>\n",
       "      <td>9.0</td>\n",
       "      <td>6.812500</td>\n",
       "      <td>172556</td>\n",
       "      <td>0</td>\n",
       "      <td>1</td>\n",
       "      <td>4</td>\n",
       "      <td>41.0</td>\n",
       "    </tr>\n",
       "    <tr>\n",
       "      <th>4</th>\n",
       "      <td>8601</td>\n",
       "      <td>0</td>\n",
       "      <td>2001</td>\n",
       "      <td>78.000000</td>\n",
       "      <td>3.0</td>\n",
       "      <td>2.000000</td>\n",
       "      <td>60</td>\n",
       "      <td>1</td>\n",
       "      <td>28</td>\n",
       "      <td>9</td>\n",
       "      <td>...</td>\n",
       "      <td>9601</td>\n",
       "      <td>7903</td>\n",
       "      <td>8005.0</td>\n",
       "      <td>14.0</td>\n",
       "      <td>6.864865</td>\n",
       "      <td>7112</td>\n",
       "      <td>0</td>\n",
       "      <td>1</td>\n",
       "      <td>2</td>\n",
       "      <td>26.0</td>\n",
       "    </tr>\n",
       "  </tbody>\n",
       "</table>\n",
       "<p>5 rows × 323 columns</p>\n",
       "</div>"
      ],
      "text/plain": [
       "   ODATEDW  TCODE   DOB        AGE  INCOME   WEALTH1  HIT  MALEMILI  MALEVET  \\\n",
       "0     8901      0  3712  60.000000     5.0  5.345699    0         0       39   \n",
       "1     9401      1  5202  46.000000     6.0  9.000000   16         0       15   \n",
       "2     9001      1     0  61.611649     3.0  1.000000    2         0       20   \n",
       "3     8701      0  2801  70.000000     1.0  4.000000    2         0       23   \n",
       "4     8601      0  2001  78.000000     3.0  2.000000   60         1       28   \n",
       "\n",
       "   VIETVETS  ...  LASTDATE  FISTDATE  NEXTDATE  TIMELAG    AVGGIFT  CONTROLN  \\\n",
       "0        34  ...      9512      8911    9003.0      4.0   7.741935     95515   \n",
       "1        55  ...      9512      9310    9504.0     18.0  15.666667    148535   \n",
       "2        29  ...      9512      9001    9101.0     12.0   7.481481     15078   \n",
       "3        14  ...      9512      8702    8711.0      9.0   6.812500    172556   \n",
       "4         9  ...      9601      7903    8005.0     14.0   6.864865      7112   \n",
       "\n",
       "   TARGET_B  HPHONE_D  RFA_2F  CLUSTER2  \n",
       "0         0         0       4      39.0  \n",
       "1         0         0       2       1.0  \n",
       "2         0         1       4      60.0  \n",
       "3         0         1       4      41.0  \n",
       "4         0         1       2      26.0  \n",
       "\n",
       "[5 rows x 323 columns]"
      ]
     },
     "execution_count": 66,
     "metadata": {},
     "output_type": "execute_result"
    }
   ],
   "source": [
    "numerical.head()"
   ]
  },
  {
   "cell_type": "markdown",
   "id": "56b38853",
   "metadata": {},
   "source": [
    "#### Look critically at the dtypes of numerical and categorical columns and make changes where appropriate."
   ]
  },
  {
   "cell_type": "code",
   "execution_count": 67,
   "id": "857f4047",
   "metadata": {},
   "outputs": [
    {
     "data": {
      "text/plain": [
       "ODATEDW     0\n",
       "TCODE       0\n",
       "DOB         0\n",
       "AGE         0\n",
       "INCOME      0\n",
       "           ..\n",
       "CONTROLN    0\n",
       "TARGET_B    0\n",
       "HPHONE_D    0\n",
       "RFA_2F      0\n",
       "CLUSTER2    0\n",
       "Length: 323, dtype: int64"
      ]
     },
     "execution_count": 67,
     "metadata": {},
     "output_type": "execute_result"
    }
   ],
   "source": [
    "numerical.isna().sum()"
   ]
  },
  {
   "cell_type": "code",
   "execution_count": 68,
   "id": "01a95499",
   "metadata": {},
   "outputs": [
    {
     "data": {
      "text/plain": [
       "STATE       0\n",
       "CLUSTER     0\n",
       "HOMEOWNR    0\n",
       "GENDER      0\n",
       "DATASRCE    0\n",
       "RFA_2R      0\n",
       "RFA_2A      0\n",
       "GEOCODE2    0\n",
       "DOMAIN_A    0\n",
       "DOMAIN_B    0\n",
       "dtype: int64"
      ]
     },
     "execution_count": 68,
     "metadata": {},
     "output_type": "execute_result"
    }
   ],
   "source": [
    "categorical.isna().sum()"
   ]
  },
  {
   "cell_type": "markdown",
   "id": "c4a073b3",
   "metadata": {},
   "source": [
    "#### Concatenate numerical and categorical back together again for your X dataframe. Designate the TargetB as y "
   ]
  },
  {
   "cell_type": "code",
   "execution_count": 69,
   "id": "142fbbe5",
   "metadata": {},
   "outputs": [],
   "source": [
    "X = pd.concat([numerical, categorical], axis=1)"
   ]
  },
  {
   "cell_type": "code",
   "execution_count": 70,
   "id": "b2187959",
   "metadata": {},
   "outputs": [],
   "source": [
    "y = X['TARGET_B']"
   ]
  },
  {
   "cell_type": "code",
   "execution_count": 71,
   "id": "2df68aa9",
   "metadata": {},
   "outputs": [],
   "source": [
    "X.drop('TARGET_B', axis=1, inplace=True)"
   ]
  },
  {
   "cell_type": "markdown",
   "id": "e480c3d5",
   "metadata": {},
   "source": [
    "#### Split the data into a training set and a test set."
   ]
  },
  {
   "cell_type": "code",
   "execution_count": 72,
   "id": "4f1eb071",
   "metadata": {},
   "outputs": [],
   "source": [
    "from sklearn.model_selection import train_test_split\n",
    "\n",
    "# Split the data into training and test sets\n",
    "X_train, X_test, y_train, y_test = train_test_split(X, y, test_size=0.2, random_state=42)"
   ]
  },
  {
   "cell_type": "markdown",
   "id": "ccceca55",
   "metadata": {},
   "source": [
    "#### Split further into train_num and train_cat. Also test_num and test_cat."
   ]
  },
  {
   "cell_type": "code",
   "execution_count": 73,
   "id": "0050b50f",
   "metadata": {},
   "outputs": [],
   "source": [
    "# Split the training set into numerical and categorical features\n",
    "train_num = X_train.select_dtypes(include='number')\n",
    "train_cat = X_train.select_dtypes(include='object')"
   ]
  },
  {
   "cell_type": "code",
   "execution_count": 74,
   "id": "3bfcf64c",
   "metadata": {},
   "outputs": [],
   "source": [
    "# Split the test set into numerical and categorical features\n",
    "test_num = X_test.select_dtypes(include='number')\n",
    "test_cat = X_test.select_dtypes(include='object')"
   ]
  },
  {
   "cell_type": "markdown",
   "id": "bc558d35",
   "metadata": {},
   "source": [
    "#### Scale the features either by using MinMax Scaler or a Standard Scaler. (train_num, test_num)"
   ]
  },
  {
   "cell_type": "code",
   "execution_count": 75,
   "id": "07901e33",
   "metadata": {},
   "outputs": [],
   "source": [
    "from sklearn.preprocessing import MinMaxScaler, StandardScaler\n",
    "\n",
    "# Create MinMaxScaler object\n",
    "min_max_scaler = MinMaxScaler()\n",
    "\n",
    "# Fit and transform the training set\n",
    "train_num_scaled = min_max_scaler.fit_transform(train_num)\n",
    "\n",
    "# Transform the test set\n",
    "test_num_scaled = min_max_scaler.transform(test_num)\n"
   ]
  },
  {
   "cell_type": "markdown",
   "id": "2a88662d",
   "metadata": {},
   "source": [
    "#### Encode the categorical features using One-Hot Encoding or Ordinal Encoding. (train_cat, test_cat"
   ]
  },
  {
   "cell_type": "code",
   "execution_count": 76,
   "id": "31ccef6b",
   "metadata": {},
   "outputs": [
    {
     "name": "stderr",
     "output_type": "stream",
     "text": [
      "C:\\Users\\DELL\\anaconda3\\lib\\site-packages\\sklearn\\preprocessing\\_encoders.py:828: FutureWarning: `sparse` was renamed to `sparse_output` in version 1.2 and will be removed in 1.4. `sparse_output` is ignored unless you leave `sparse` to its default value.\n",
      "  warnings.warn(\n"
     ]
    }
   ],
   "source": [
    "from sklearn.preprocessing import OneHotEncoder\n",
    "\n",
    "# Create OneHotEncoder object\n",
    "one_hot_encoder = OneHotEncoder(sparse=False, handle_unknown='ignore')\n",
    "\n",
    "# Fit and transform the training set\n",
    "train_cat_encoded = one_hot_encoder.fit_transform(train_cat)\n",
    "\n",
    "# Transform the test set\n",
    "test_cat_encoded = one_hot_encoder.transform(test_cat)\n"
   ]
  },
  {
   "cell_type": "markdown",
   "id": "8d72778a",
   "metadata": {},
   "source": [
    "####  Re-concatenate the encoded numerical and categorical features"
   ]
  },
  {
   "cell_type": "code",
   "execution_count": 77,
   "id": "56323018",
   "metadata": {},
   "outputs": [],
   "source": [
    "X_train = pd.concat([pd.DataFrame(train_num_scaled), pd.DataFrame(train_cat_encoded)], axis=1)\n",
    "X_test = pd.concat([pd.DataFrame(test_num_scaled), pd.DataFrame(test_cat_encoded)], axis=1)"
   ]
  },
  {
   "cell_type": "markdown",
   "id": "d0cc7c67",
   "metadata": {},
   "source": [
    "#### Fit a logistic regression model on the training data"
   ]
  },
  {
   "cell_type": "code",
   "execution_count": 78,
   "id": "1c9c0221",
   "metadata": {},
   "outputs": [
    {
     "name": "stderr",
     "output_type": "stream",
     "text": [
      "C:\\Users\\DELL\\anaconda3\\lib\\site-packages\\sklearn\\linear_model\\_logistic.py:458: ConvergenceWarning: lbfgs failed to converge (status=1):\n",
      "STOP: TOTAL NO. of ITERATIONS REACHED LIMIT.\n",
      "\n",
      "Increase the number of iterations (max_iter) or scale the data as shown in:\n",
      "    https://scikit-learn.org/stable/modules/preprocessing.html\n",
      "Please also refer to the documentation for alternative solver options:\n",
      "    https://scikit-learn.org/stable/modules/linear_model.html#logistic-regression\n",
      "  n_iter_i = _check_optimize_result(\n"
     ]
    },
    {
     "data": {
      "text/html": [
       "<style>#sk-container-id-4 {color: black;background-color: white;}#sk-container-id-4 pre{padding: 0;}#sk-container-id-4 div.sk-toggleable {background-color: white;}#sk-container-id-4 label.sk-toggleable__label {cursor: pointer;display: block;width: 100%;margin-bottom: 0;padding: 0.3em;box-sizing: border-box;text-align: center;}#sk-container-id-4 label.sk-toggleable__label-arrow:before {content: \"▸\";float: left;margin-right: 0.25em;color: #696969;}#sk-container-id-4 label.sk-toggleable__label-arrow:hover:before {color: black;}#sk-container-id-4 div.sk-estimator:hover label.sk-toggleable__label-arrow:before {color: black;}#sk-container-id-4 div.sk-toggleable__content {max-height: 0;max-width: 0;overflow: hidden;text-align: left;background-color: #f0f8ff;}#sk-container-id-4 div.sk-toggleable__content pre {margin: 0.2em;color: black;border-radius: 0.25em;background-color: #f0f8ff;}#sk-container-id-4 input.sk-toggleable__control:checked~div.sk-toggleable__content {max-height: 200px;max-width: 100%;overflow: auto;}#sk-container-id-4 input.sk-toggleable__control:checked~label.sk-toggleable__label-arrow:before {content: \"▾\";}#sk-container-id-4 div.sk-estimator input.sk-toggleable__control:checked~label.sk-toggleable__label {background-color: #d4ebff;}#sk-container-id-4 div.sk-label input.sk-toggleable__control:checked~label.sk-toggleable__label {background-color: #d4ebff;}#sk-container-id-4 input.sk-hidden--visually {border: 0;clip: rect(1px 1px 1px 1px);clip: rect(1px, 1px, 1px, 1px);height: 1px;margin: -1px;overflow: hidden;padding: 0;position: absolute;width: 1px;}#sk-container-id-4 div.sk-estimator {font-family: monospace;background-color: #f0f8ff;border: 1px dotted black;border-radius: 0.25em;box-sizing: border-box;margin-bottom: 0.5em;}#sk-container-id-4 div.sk-estimator:hover {background-color: #d4ebff;}#sk-container-id-4 div.sk-parallel-item::after {content: \"\";width: 100%;border-bottom: 1px solid gray;flex-grow: 1;}#sk-container-id-4 div.sk-label:hover label.sk-toggleable__label {background-color: #d4ebff;}#sk-container-id-4 div.sk-serial::before {content: \"\";position: absolute;border-left: 1px solid gray;box-sizing: border-box;top: 0;bottom: 0;left: 50%;z-index: 0;}#sk-container-id-4 div.sk-serial {display: flex;flex-direction: column;align-items: center;background-color: white;padding-right: 0.2em;padding-left: 0.2em;position: relative;}#sk-container-id-4 div.sk-item {position: relative;z-index: 1;}#sk-container-id-4 div.sk-parallel {display: flex;align-items: stretch;justify-content: center;background-color: white;position: relative;}#sk-container-id-4 div.sk-item::before, #sk-container-id-4 div.sk-parallel-item::before {content: \"\";position: absolute;border-left: 1px solid gray;box-sizing: border-box;top: 0;bottom: 0;left: 50%;z-index: -1;}#sk-container-id-4 div.sk-parallel-item {display: flex;flex-direction: column;z-index: 1;position: relative;background-color: white;}#sk-container-id-4 div.sk-parallel-item:first-child::after {align-self: flex-end;width: 50%;}#sk-container-id-4 div.sk-parallel-item:last-child::after {align-self: flex-start;width: 50%;}#sk-container-id-4 div.sk-parallel-item:only-child::after {width: 0;}#sk-container-id-4 div.sk-dashed-wrapped {border: 1px dashed gray;margin: 0 0.4em 0.5em 0.4em;box-sizing: border-box;padding-bottom: 0.4em;background-color: white;}#sk-container-id-4 div.sk-label label {font-family: monospace;font-weight: bold;display: inline-block;line-height: 1.2em;}#sk-container-id-4 div.sk-label-container {text-align: center;}#sk-container-id-4 div.sk-container {/* jupyter's `normalize.less` sets `[hidden] { display: none; }` but bootstrap.min.css set `[hidden] { display: none !important; }` so we also need the `!important` here to be able to override the default hidden behavior on the sphinx rendered scikit-learn.org. See: https://github.com/scikit-learn/scikit-learn/issues/21755 */display: inline-block !important;position: relative;}#sk-container-id-4 div.sk-text-repr-fallback {display: none;}</style><div id=\"sk-container-id-4\" class=\"sk-top-container\"><div class=\"sk-text-repr-fallback\"><pre>LogisticRegression()</pre><b>In a Jupyter environment, please rerun this cell to show the HTML representation or trust the notebook. <br />On GitHub, the HTML representation is unable to render, please try loading this page with nbviewer.org.</b></div><div class=\"sk-container\" hidden><div class=\"sk-item\"><div class=\"sk-estimator sk-toggleable\"><input class=\"sk-toggleable__control sk-hidden--visually\" id=\"sk-estimator-id-4\" type=\"checkbox\" checked><label for=\"sk-estimator-id-4\" class=\"sk-toggleable__label sk-toggleable__label-arrow\">LogisticRegression</label><div class=\"sk-toggleable__content\"><pre>LogisticRegression()</pre></div></div></div></div></div>"
      ],
      "text/plain": [
       "LogisticRegression()"
      ]
     },
     "execution_count": 78,
     "metadata": {},
     "output_type": "execute_result"
    }
   ],
   "source": [
    "from sklearn.linear_model import LogisticRegression\n",
    "\n",
    "# Create a LogisticRegression object\n",
    "logistic_regression = LogisticRegression()\n",
    "\n",
    "# Fit the logistic regression model on the training data\n",
    "logistic_regression.fit(X_train, y_train)\n"
   ]
  },
  {
   "cell_type": "markdown",
   "id": "ffa171c3",
   "metadata": {},
   "source": [
    " #### Check the accuracy on the test data."
   ]
  },
  {
   "cell_type": "code",
   "execution_count": 79,
   "id": "460d31b4",
   "metadata": {},
   "outputs": [
    {
     "name": "stdout",
     "output_type": "stream",
     "text": [
      "Accuracy on test data\n",
      "0.9487501965099827\n"
     ]
    }
   ],
   "source": [
    "# Calculate the accuracy on the test data\n",
    "accuracy = logistic_regression.score(X_test, y_test)\n",
    "\n",
    "# Print the accuracy\n",
    "print(\"Accuracy on test data\")\n",
    "print (accuracy)\n",
    "# accuracy represents the proportion of correct predictions made by the logistic regression model on the test data."
   ]
  },
  {
   "cell_type": "markdown",
   "id": "71c9efd6",
   "metadata": {},
   "source": [
    "An accuracy of 0.95 on the test data means that the logistic regression model predicted the correct class labels for \n",
    "approximately 95% of the instances in the test dataset. In other words, out of all the data points in the test set, \n",
    "around 95% of them were correctly classified by the model."
   ]
  },
  {
   "cell_type": "markdown",
   "id": "af671258",
   "metadata": {},
   "source": [
    "#### Check for the imbalance."
   ]
  },
  {
   "cell_type": "code",
   "execution_count": 80,
   "id": "89217f3a",
   "metadata": {},
   "outputs": [
    {
     "name": "stdout",
     "output_type": "stream",
     "text": [
      "Class Distribution:\n",
      "0    90569\n",
      "1     4843\n",
      "Name: TARGET_B, dtype: int64\n"
     ]
    }
   ],
   "source": [
    "# Calculate the class distribution\n",
    "class_distribution = pd.Series(y).value_counts()\n",
    "\n",
    "# Print the class distribution\n",
    "print(\"Class Distribution:\")\n",
    "print(class_distribution)"
   ]
  },
  {
   "cell_type": "code",
   "execution_count": 81,
   "id": "86d2744c",
   "metadata": {},
   "outputs": [],
   "source": [
    "from sklearn.utils import resample\n",
    "\n",
    "category_0 = numerical[numerical['TARGET_B'] == 0]\n",
    "category_1 = numerical[numerical['TARGET_B'] == 1]"
   ]
  },
  {
   "cell_type": "markdown",
   "id": "716d76c4",
   "metadata": {},
   "source": [
    "#### Downsampling (undersampling)"
   ]
  },
  {
   "cell_type": "code",
   "execution_count": 82,
   "id": "0d47bf6e",
   "metadata": {},
   "outputs": [],
   "source": [
    "category_0_undersampled = resample(category_0,\n",
    "                                   replace=False,\n",
    "                                   n_samples = len(category_1))"
   ]
  },
  {
   "cell_type": "code",
   "execution_count": 47,
   "id": "c0917ed1",
   "metadata": {},
   "outputs": [
    {
     "name": "stdout",
     "output_type": "stream",
     "text": [
      "(4843, 323)\n",
      "(4843, 323)\n"
     ]
    }
   ],
   "source": [
    "print(category_0_undersampled.shape)\n",
    "print(category_1.shape)"
   ]
  },
  {
   "cell_type": "code",
   "execution_count": 48,
   "id": "7c6a322c",
   "metadata": {},
   "outputs": [],
   "source": [
    "data_downsampled = pd.concat([category_0_undersampled, category_1], axis=0)"
   ]
  },
  {
   "cell_type": "code",
   "execution_count": 49,
   "id": "12be76b2",
   "metadata": {},
   "outputs": [
    {
     "data": {
      "text/plain": [
       "0    4843\n",
       "1    4843\n",
       "Name: TARGET_B, dtype: int64"
      ]
     },
     "execution_count": 49,
     "metadata": {},
     "output_type": "execute_result"
    }
   ],
   "source": [
    "data_downsampled['TARGET_B'].value_counts()"
   ]
  },
  {
   "cell_type": "markdown",
   "id": "89090efa",
   "metadata": {},
   "source": [
    "#### Upsampling (oversampling)"
   ]
  },
  {
   "cell_type": "code",
   "execution_count": 50,
   "id": "46379b85",
   "metadata": {},
   "outputs": [],
   "source": [
    "category_1_oversampled = resample(category_1,\n",
    "                                  replace=True,\n",
    "                                  n_samples = len(category_0))"
   ]
  },
  {
   "cell_type": "code",
   "execution_count": 51,
   "id": "f5e1a233",
   "metadata": {},
   "outputs": [
    {
     "name": "stdout",
     "output_type": "stream",
     "text": [
      "(90569, 323)\n",
      "(90569, 323)\n"
     ]
    }
   ],
   "source": [
    "print(category_0.shape)\n",
    "print(category_1_oversampled.shape)"
   ]
  },
  {
   "cell_type": "code",
   "execution_count": 52,
   "id": "15240576",
   "metadata": {},
   "outputs": [],
   "source": [
    "data_upsampled = pd.concat([category_0, category_1_oversampled], axis=0)"
   ]
  },
  {
   "cell_type": "code",
   "execution_count": 56,
   "id": "29600a95",
   "metadata": {},
   "outputs": [
    {
     "data": {
      "text/plain": [
       "0    90569\n",
       "1    90569\n",
       "Name: TARGET_B, dtype: int64"
      ]
     },
     "execution_count": 56,
     "metadata": {},
     "output_type": "execute_result"
    }
   ],
   "source": [
    "data_upsampled['TARGET_B'].value_counts()"
   ]
  },
  {
   "cell_type": "markdown",
   "id": "fd4edd37",
   "metadata": {},
   "source": [
    "#### Each time fit the model and see how the accuracy of the model has changed. "
   ]
  },
  {
   "cell_type": "code",
   "execution_count": 92,
   "id": "e08de2bf",
   "metadata": {},
   "outputs": [],
   "source": [
    "from sklearn.linear_model import LogisticRegression\n",
    "\n",
    "from sklearn.metrics import accuracy_score"
   ]
  },
  {
   "cell_type": "code",
   "execution_count": 97,
   "id": "67e1b2ac",
   "metadata": {},
   "outputs": [
    {
     "name": "stderr",
     "output_type": "stream",
     "text": [
      "C:\\Users\\DELL\\anaconda3\\lib\\site-packages\\sklearn\\linear_model\\_logistic.py:458: ConvergenceWarning: lbfgs failed to converge (status=1):\n",
      "STOP: TOTAL NO. of ITERATIONS REACHED LIMIT.\n",
      "\n",
      "Increase the number of iterations (max_iter) or scale the data as shown in:\n",
      "    https://scikit-learn.org/stable/modules/preprocessing.html\n",
      "Please also refer to the documentation for alternative solver options:\n",
      "    https://scikit-learn.org/stable/modules/linear_model.html#logistic-regression\n",
      "  n_iter_i = _check_optimize_result(\n",
      "C:\\Users\\DELL\\anaconda3\\lib\\site-packages\\sklearn\\linear_model\\_logistic.py:458: ConvergenceWarning: lbfgs failed to converge (status=1):\n",
      "STOP: TOTAL NO. of ITERATIONS REACHED LIMIT.\n",
      "\n",
      "Increase the number of iterations (max_iter) or scale the data as shown in:\n",
      "    https://scikit-learn.org/stable/modules/preprocessing.html\n",
      "Please also refer to the documentation for alternative solver options:\n",
      "    https://scikit-learn.org/stable/modules/linear_model.html#logistic-regression\n",
      "  n_iter_i = _check_optimize_result(\n"
     ]
    },
    {
     "data": {
      "text/html": [
       "<style>#sk-container-id-7 {color: black;background-color: white;}#sk-container-id-7 pre{padding: 0;}#sk-container-id-7 div.sk-toggleable {background-color: white;}#sk-container-id-7 label.sk-toggleable__label {cursor: pointer;display: block;width: 100%;margin-bottom: 0;padding: 0.3em;box-sizing: border-box;text-align: center;}#sk-container-id-7 label.sk-toggleable__label-arrow:before {content: \"▸\";float: left;margin-right: 0.25em;color: #696969;}#sk-container-id-7 label.sk-toggleable__label-arrow:hover:before {color: black;}#sk-container-id-7 div.sk-estimator:hover label.sk-toggleable__label-arrow:before {color: black;}#sk-container-id-7 div.sk-toggleable__content {max-height: 0;max-width: 0;overflow: hidden;text-align: left;background-color: #f0f8ff;}#sk-container-id-7 div.sk-toggleable__content pre {margin: 0.2em;color: black;border-radius: 0.25em;background-color: #f0f8ff;}#sk-container-id-7 input.sk-toggleable__control:checked~div.sk-toggleable__content {max-height: 200px;max-width: 100%;overflow: auto;}#sk-container-id-7 input.sk-toggleable__control:checked~label.sk-toggleable__label-arrow:before {content: \"▾\";}#sk-container-id-7 div.sk-estimator input.sk-toggleable__control:checked~label.sk-toggleable__label {background-color: #d4ebff;}#sk-container-id-7 div.sk-label input.sk-toggleable__control:checked~label.sk-toggleable__label {background-color: #d4ebff;}#sk-container-id-7 input.sk-hidden--visually {border: 0;clip: rect(1px 1px 1px 1px);clip: rect(1px, 1px, 1px, 1px);height: 1px;margin: -1px;overflow: hidden;padding: 0;position: absolute;width: 1px;}#sk-container-id-7 div.sk-estimator {font-family: monospace;background-color: #f0f8ff;border: 1px dotted black;border-radius: 0.25em;box-sizing: border-box;margin-bottom: 0.5em;}#sk-container-id-7 div.sk-estimator:hover {background-color: #d4ebff;}#sk-container-id-7 div.sk-parallel-item::after {content: \"\";width: 100%;border-bottom: 1px solid gray;flex-grow: 1;}#sk-container-id-7 div.sk-label:hover label.sk-toggleable__label {background-color: #d4ebff;}#sk-container-id-7 div.sk-serial::before {content: \"\";position: absolute;border-left: 1px solid gray;box-sizing: border-box;top: 0;bottom: 0;left: 50%;z-index: 0;}#sk-container-id-7 div.sk-serial {display: flex;flex-direction: column;align-items: center;background-color: white;padding-right: 0.2em;padding-left: 0.2em;position: relative;}#sk-container-id-7 div.sk-item {position: relative;z-index: 1;}#sk-container-id-7 div.sk-parallel {display: flex;align-items: stretch;justify-content: center;background-color: white;position: relative;}#sk-container-id-7 div.sk-item::before, #sk-container-id-7 div.sk-parallel-item::before {content: \"\";position: absolute;border-left: 1px solid gray;box-sizing: border-box;top: 0;bottom: 0;left: 50%;z-index: -1;}#sk-container-id-7 div.sk-parallel-item {display: flex;flex-direction: column;z-index: 1;position: relative;background-color: white;}#sk-container-id-7 div.sk-parallel-item:first-child::after {align-self: flex-end;width: 50%;}#sk-container-id-7 div.sk-parallel-item:last-child::after {align-self: flex-start;width: 50%;}#sk-container-id-7 div.sk-parallel-item:only-child::after {width: 0;}#sk-container-id-7 div.sk-dashed-wrapped {border: 1px dashed gray;margin: 0 0.4em 0.5em 0.4em;box-sizing: border-box;padding-bottom: 0.4em;background-color: white;}#sk-container-id-7 div.sk-label label {font-family: monospace;font-weight: bold;display: inline-block;line-height: 1.2em;}#sk-container-id-7 div.sk-label-container {text-align: center;}#sk-container-id-7 div.sk-container {/* jupyter's `normalize.less` sets `[hidden] { display: none; }` but bootstrap.min.css set `[hidden] { display: none !important; }` so we also need the `!important` here to be able to override the default hidden behavior on the sphinx rendered scikit-learn.org. See: https://github.com/scikit-learn/scikit-learn/issues/21755 */display: inline-block !important;position: relative;}#sk-container-id-7 div.sk-text-repr-fallback {display: none;}</style><div id=\"sk-container-id-7\" class=\"sk-top-container\"><div class=\"sk-text-repr-fallback\"><pre>LogisticRegression()</pre><b>In a Jupyter environment, please rerun this cell to show the HTML representation or trust the notebook. <br />On GitHub, the HTML representation is unable to render, please try loading this page with nbviewer.org.</b></div><div class=\"sk-container\" hidden><div class=\"sk-item\"><div class=\"sk-estimator sk-toggleable\"><input class=\"sk-toggleable__control sk-hidden--visually\" id=\"sk-estimator-id-7\" type=\"checkbox\" checked><label for=\"sk-estimator-id-7\" class=\"sk-toggleable__label sk-toggleable__label-arrow\">LogisticRegression</label><div class=\"sk-toggleable__content\"><pre>LogisticRegression()</pre></div></div></div></div></div>"
      ],
      "text/plain": [
       "LogisticRegression()"
      ]
     },
     "execution_count": 97,
     "metadata": {},
     "output_type": "execute_result"
    }
   ],
   "source": [
    "from sklearn.linear_model import LogisticRegression\n",
    "\n",
    "# Create a LogisticRegression object\n",
    "logistic_regression = LogisticRegression()\n",
    "\n",
    "# Fit the logistic regression model on the training data\n",
    "logistic_regression.fit(X_train_over, y_train_over)\n",
    "logistic_regression.fit(X_train_under, y_train_under)"
   ]
  },
  {
   "cell_type": "markdown",
   "id": "a2ace578",
   "metadata": {},
   "source": [
    "###### Accuracy after downsampling"
   ]
  },
  {
   "cell_type": "code",
   "execution_count": 100,
   "id": "da2ec63e",
   "metadata": {},
   "outputs": [
    {
     "data": {
      "text/plain": [
       "0.6022494887525562"
      ]
     },
     "execution_count": 100,
     "metadata": {},
     "output_type": "execute_result"
    }
   ],
   "source": [
    "accuracy_under = logistic_regression.score(X_test_under, y_test_under)\n",
    "accuracy_under"
   ]
  },
  {
   "cell_type": "markdown",
   "id": "5504ae24",
   "metadata": {},
   "source": [
    "##### Accuracy after upsampling"
   ]
  },
  {
   "cell_type": "code",
   "execution_count": 99,
   "id": "f397ddfd",
   "metadata": {},
   "outputs": [
    {
     "data": {
      "text/plain": [
       "0.587682960508147"
      ]
     },
     "execution_count": 99,
     "metadata": {},
     "output_type": "execute_result"
    }
   ],
   "source": [
    "accuracy_over = logistic_regression.score(X_test_over, y_test_over)\n",
    "accuracy_over"
   ]
  }
 ],
 "metadata": {
  "kernelspec": {
   "display_name": "Python 3 (ipykernel)",
   "language": "python",
   "name": "python3"
  },
  "language_info": {
   "codemirror_mode": {
    "name": "ipython",
    "version": 3
   },
   "file_extension": ".py",
   "mimetype": "text/x-python",
   "name": "python",
   "nbconvert_exporter": "python",
   "pygments_lexer": "ipython3",
   "version": "3.10.9"
  }
 },
 "nbformat": 4,
 "nbformat_minor": 5
}
